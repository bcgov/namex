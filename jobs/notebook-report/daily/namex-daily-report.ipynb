{
 "cells": [
  {
   "cell_type": "markdown",
   "source": [
    "# NameX Daily Stats"
   ],
   "metadata": {
    "collapsed": false
   }
  },
  {
   "cell_type": "markdown",
   "source": [
    "We need to load in these libraries into our notebook in order to query, load, manipulate and view the data"
   ],
   "metadata": {
    "collapsed": false
   }
  },
  {
   "cell_type": "code",
   "execution_count": 20,
   "outputs": [
    {
     "name": "stdout",
     "text": [
      "The sql extension is already loaded. To reload it, use:\n  %reload_ext sql\n"
     ],
     "output_type": "stream"
    }
   ],
   "source": [
    "import os\n",
    "import psycopg2\n",
    "import sqlalchemy\n",
    "import pandas as pd\n",
    "import csv\n",
    "import matplotlib\n",
    "from datetime import datetime, timedelta\n",
    "from IPython.core.display import HTML\n",
    "\n",
    "%load_ext sql\n",
    "%config SqlMagic.displaylimit = 5"
   ],
   "metadata": {
    "collapsed": false,
    "pycharm": {
     "name": "#%%\n",
     "is_executing": false
    }
   }
  },
  {
   "cell_type": "markdown",
   "source": [
    "This will create the connection to the database and prep the jupyter magic for SQL..."
   ],
   "metadata": {
    "collapsed": false
   }
  },
  {
   "cell_type": "code",
   "execution_count": null,
   "outputs": [],
   "source": [
    "connect_to_db = 'postgresql://' + \\\n",
    "                os.getenv('PG_USER', '') + \":\" + os.getenv('PG_PASSWORD', '') +'@' + \\\n",
    "                os.getenv('PG_HOST', '') + ':' + os.getenv('PG_PORT', '5432') + '/' + os.getenv('PG_DB_NAME', '');\n",
    "\n",
    "%sql $connect_to_db\n"
   ],
   "metadata": {
    "collapsed": false,
    "pycharm": {
     "name": "#%%\n",
     "is_executing": false
    }
   }
  },
  {
   "cell_type": "markdown",
   "source": [
    "Simplest query to run to ensure our libraries are loaded and our DB connection is working"
   ],
   "metadata": {
    "collapsed": false
   }
  },
  {
   "cell_type": "code",
   "execution_count": null,
   "outputs": [],
   "source": [
    "%%sql \n",
    "select now() AT TIME ZONE 'PST' as current_date"
   ],
   "metadata": {
    "collapsed": false,
    "pycharm": {
     "name": "#%%\n",
     "is_executing": false
    }
   }
  },
  {
   "cell_type": "markdown",
   "source": [
    "Daily totals for specified date: Following query, 'current_date - 0' means today, 'current_date - 1' means yesterday, 'current_date - 2' means the day before yesterday..."
   ],
   "metadata": {
    "collapsed": false
   }
  },
  {
   "cell_type": "code",
   "execution_count": null,
   "outputs": [],
   "source": [
    "%%sql stat_daily_completed  <<\n",
    "SELECT to_char(date(current_date -1), 'YY-Mon-DD') AS EXAMINED_DATE\n",
    "     , (select username from users u where u.id=e.user_id) AS EXAMINER     \n",
    "     , count(e.*) + count(r.*) FILTER (WHERE r.priority_cd = 'Y') AS TOTAL                  \n",
    "FROM events e,\n",
    "requests r\n",
    "WHERE e.user_id != 1\n",
    "AND r.id = e.nr_id\n",
    "AND date(e.event_dt at time zone 'utc' at time zone 'pst') = date(current_date - 1)\n",
    "AND e.state_cd in ('APPROVED','REJECTED','CONDITIONAL','CANCELLED')\n",
    "group by e.user_id \n",
    "order by total desc;"
   ],
   "metadata": {
    "collapsed": false,
    "pycharm": {
     "name": "#%%\n",
     "is_executing": false
    }
   }
  },
  {
   "cell_type": "code",
   "execution_count": null,
   "outputs": [],
   "source": [
    "edt = stat_daily_completed.DataFrame()\n",
    "\n",
    "if not edt.empty: \n",
    "    edt['examiner'] = edt['examiner'].str.replace('idir/','')        \n",
    "    \n",
    "    # with pd.option_context('display.max_rows', None, 'display.max_columns', None):\n",
    "    #     display(HTML(edt.to_html()))\n",
    "    #     print('grand total', edt['total'].sum())       \n",
    "    "
   ],
   "metadata": {
    "collapsed": false,
    "pycharm": {
     "name": "#%%\n",
     "is_executing": false
    }
   }
  },
  {
   "cell_type": "markdown",
   "source": [
    "Save to CSV\n",
    "    "
   ],
   "metadata": {
    "collapsed": false
   }
  },
  {
   "cell_type": "code",
   "execution_count": null,
   "outputs": [],
   "source": [
    "filename = 'daily_totals_' + datetime.strftime(datetime.now()-timedelta(1), '%Y-%m-%d') +'.csv'\n",
    "edt.to_csv(filename, sep=',', encoding='utf-8', index=False)\n",
    "\n",
    "if edt.empty:\n",
    "    with open(filename, 'a') as f:\n",
    "        writer = csv.writer(f)\n",
    "        writer.writerow(('No Data Retrieved',''))"
   ],
   "metadata": {
    "collapsed": false,
    "pycharm": {
     "name": "#%%\n",
     "is_executing": false
    }
   }
  }
 ],
 "metadata": {
  "celltoolbar": "Tags",
  "kernelspec": {
   "display_name": "Python 3",
   "language": "python",
   "name": "python3"
  },
  "language_info": {
   "codemirror_mode": {
    "name": "ipython",
    "version": 3
   },
   "file_extension": ".py",
   "mimetype": "text/x-python",
   "name": "python",
   "nbconvert_exporter": "python",
   "pygments_lexer": "ipython3",
   "version": "3.7.3"
  },
  "pycharm": {
   "stem_cell": {
    "cell_type": "raw",
    "source": [],
    "metadata": {
     "collapsed": false
    }
   }
  }
 },
 "nbformat": 4,
 "nbformat_minor": 2
}