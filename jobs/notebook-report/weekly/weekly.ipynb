{
 "cells": [
  {
   "cell_type": "markdown",
   "source": [
    "# Weekly Stats"
   ],
   "metadata": {
    "collapsed": false
   }
  },
  {
   "cell_type": "markdown",
   "source": [
    "We need to load in these libraries into our notebook in order to query, load, manipulate and view the data"
   ],
   "metadata": {
    "collapsed": false
   }
  },
  {
   "cell_type": "code",
   "execution_count": null,
   "outputs": [],
   "source": [
    "import os\n",
    "import psycopg2\n",
    "import pandas as pd\n",
    "import matplotlib\n",
    "from datetime import datetime, timedelta\n",
    "from dateutil.relativedelta import relativedelta\n",
    "from IPython.core.display import HTML\n",
    "\n",
    "%load_ext sql\n",
    "%config SqlMagic.displaylimit = 5"
   ],
   "metadata": {
    "collapsed": false,
    "pycharm": {
     "name": "#%%\n",
     "is_executing": false
    }
   }
  },
  {
   "cell_type": "markdown",
   "source": [
    "This will create the connection to the database and prep the jupyter magic for SQL"
   ],
   "metadata": {
    "collapsed": false
   }
  },
  {
   "cell_type": "code",
   "execution_count": null,
   "outputs": [],
   "source": [
    "connect_to_db = 'postgresql://' + \\\n",
    "                os.getenv('PG_USER', '') + \":\" + os.getenv('PG_PASSWORD', '') +'@' + \\\n",
    "                os.getenv('PG_HOST', '') + ':' + os.getenv('PG_PORT', '5432') + '/' + os.getenv('PG_DB_NAME', '');\n",
    "    \n",
    "%sql $connect_to_db"
   ],
   "metadata": {
    "collapsed": false,
    "pycharm": {
     "name": "#%%\n",
     "is_executing": false
    },
    "tags": []
   }
  },
  {
   "cell_type": "markdown",
   "source": [
    "Simplest query to run to ensure our libraries are loaded and our DB connection is working"
   ],
   "metadata": {
    "collapsed": false
   }
  },
  {
   "cell_type": "code",
   "execution_count": null,
   "outputs": [],
   "source": [
    "%%sql \n",
    "select now() AT TIME ZONE 'PST' as current_date"
   ],
   "metadata": {
    "collapsed": false,
    "pycharm": {
     "name": "#%%\n",
     "is_executing": false
    },
    "tags": []
   }
  },
  {
   "cell_type": "markdown",
   "source": [
    "Weekly running time."
   ],
   "metadata": {
    "collapsed": false
   }
  },
  {
   "cell_type": "code",
   "execution_count": null,
   "outputs": [],
   "source": [
    "%%sql stat_weekly_submitted  <<\n",
    "SELECT count(r.*) AS \"Number of Names Submitted:\" FROM requests r\n",
    "WHERE date(r.submitted_date at time zone 'utc' at time zone 'pst')  > date(current_date - 1 - interval '1 weeks')\n",
    "    AND date(r.submitted_date at time zone 'utc' at time zone 'pst')  <= date(current_date - 1)"
   ],
   "metadata": {
    "collapsed": false,
    "pycharm": {
     "name": "#%%\n",
     "is_executing": false
    },
    "tags": []
   }
  },
  {
   "cell_type": "code",
   "execution_count": null,
   "metadata": {},
   "outputs": [],
   "source": [
    "filename = os.getenv('DATA_DIR', '')+'weekly_totals_till_' + datetime.strftime(datetime.now()-timedelta(1), '%Y-%m-%d') +'.csv'\n",
    "\n",
    "with open(filename, 'w') as f:\n",
    "    stat_weekly_submitted.DataFrame().to_csv(f, sep=',', encoding='utf-8', index=False)"
   ]
  },
  {
   "cell_type": "code",
   "execution_count": null,
   "metadata": {},
   "outputs": [],
   "source": [
    "\n",
    "%%sql stat_weekly_completed  <<\n",
    "WITH Detail AS \n",
    "(\n",
    "    SELECT e.user_id     \n",
    "     , (SELECT username FROM users u WHERE u.id=e.user_id) AS EXAMINER\n",
    "     , count(e.*) FILTER (WHERE e.state_cd = 'APPROVED')  AS APPROVED\n",
    "     , count(e.*) FILTER (WHERE e.state_cd = 'REJECTED')  AS REJECTED\n",
    "     , count(e.*) FILTER (WHERE e.state_cd = 'CONDITIONAL')  AS CONDITIONAL\n",
    "     , count(e.*) FILTER (WHERE e.state_cd = 'CANCELLED')  AS CANCELLED\n",
    "     , count(r.*) FILTER (WHERE r.priority_cd = 'Y')  AS PRIORITIES\n",
    "     , count(e.*) + count(r.*) FILTER (WHERE r.priority_cd = 'Y')   AS TOTAL                  \n",
    "    FROM events e,\n",
    "    requests r\n",
    "    WHERE e.user_id != 1\n",
    "    AND r.id = e.nr_id\n",
    "    AND date(e.event_dt at time zone 'utc' at time zone 'pst')  > date(current_date - 1 - interval '1 weeks')\n",
    "    AND date(e.event_dt at time zone 'utc' at time zone 'pst')  <= date(current_date - 1)\n",
    "    AND e.state_cd in ('APPROVED','REJECTED','CONDITIONAL','CANCELLED')\n",
    "    GROUP BY e.user_id\n",
    ")\n",
    "\n",
    "SELECT * from Detail WHERE examiner LIKE '%idir%'\n",
    "UNION all\n",
    "SELECT null \n",
    "  , 'SUM' EXAMINER\n",
    "  , sum(APPROVED) AS APPROVED\n",
    "  , sum(REJECTED) AS REJECTED\n",
    "  , sum(CONDITIONAL) AS CONDITIONAL\n",
    "  , sum(CANCELLED) AS CANCELLED\n",
    "  , sum(PRIORITIES) AS PRIORITIES\n",
    "  , sum(TOTAL) AS TOTAL\n",
    "FROM Detail WHERE examiner LIKE '%idir%';"
   ]
  },
  {
   "cell_type": "code",
   "execution_count": null,
   "outputs": [],
   "source": [
    "edt = stat_weekly_completed.DataFrame()\n",
    "edt['examiner'] = edt['examiner'].str.replace('idir/','')"
   ],
   "metadata": {
    "collapsed": false,
    "pycharm": {
     "name": "#%%\n",
     "is_executing": false
    }
   }
  },
  {
   "cell_type": "code",
   "execution_count": null,
   "outputs": [],
   "source": [
    "edt['approved+conditional_%'] = round(((edt.approved + edt.conditional) / edt.total).astype('float') * float(100), 2)\n",
    "edt['rejected_%'] = round((edt.rejected / edt.total).astype('float') * float(100), 2)\n",
    "\n",
    "# with pd.option_context('display.max_rows', None, 'display.max_columns', None):\n",
    "#     display(HTML(edt.to_html()))\n",
    "#     print('grand total', edt['total'].sum())"
   ],
   "metadata": {
    "collapsed": false,
    "pycharm": {
     "name": "#%%\n",
     "is_executing": false
    }
   }
  },
  {
   "cell_type": "markdown",
   "source": [
    "Save to CSV"
   ],
   "metadata": {
    "collapsed": false
   }
  },
  {
   "cell_type": "code",
   "execution_count": null,
   "outputs": [],
   "source": [
    "with open(filename, 'a') as f:      \n",
    "    f.write('\\n\\n Number of Names Processed:\\n')\n",
    "    edt.to_csv(f, sep=',', encoding='utf-8', index=False)    \n"
   ],
   "metadata": {
    "collapsed": false,
    "pycharm": {
     "name": "#%%\n",
     "is_executing": false
    }
   }
  },
  {
   "cell_type": "code",
   "execution_count": null,
   "outputs": [],
   "source": [],
   "metadata": {
    "collapsed": false,
    "pycharm": {
     "name": "#%%\n",
     "is_executing": false
    }
   }
  }
 ],
 "metadata": {
  "celltoolbar": "Tags",
  "kernelspec": {
   "display_name": "Python 3",
   "language": "python",
   "name": "python3"
  },
  "language_info": {
   "codemirror_mode": {
    "name": "ipython",
    "version": 3
   },
   "file_extension": ".py",
   "mimetype": "text/x-python",
   "name": "python",
   "nbconvert_exporter": "python",
   "pygments_lexer": "ipython3",
   "version": "3.7.3-final"
  },
  "pycharm": {
   "stem_cell": {
    "cell_type": "raw",
    "source": [],
    "metadata": {
     "collapsed": false
    }
   }
  }
 },
 "nbformat": 4,
 "nbformat_minor": 2
}