{
 "cells": [
  {
   "cell_type": "markdown",
   "metadata": {
    "collapsed": false
   },
   "source": [
    "# NameX Daily Stats"
   ]
  },
  {
   "cell_type": "markdown",
   "metadata": {
    "collapsed": false
   },
   "source": [
    "We need to load in these libraries into our notebook in order to query, load, manipulate and view the data"
   ]
  },
  {
   "cell_type": "code",
   "execution_count": null,
   "metadata": {
    "collapsed": false,
    "pycharm": {
     "is_executing": false,
     "name": "#%%\n"
    }
   },
   "outputs": [],
   "source": [
    "import csv\n",
    "from datetime import datetime, timedelta\n",
    "from config import Config\n",
    "\n",
    "%load_ext sql\n",
    "%config SqlMagic.displaylimit = 5"
   ]
  },
  {
   "cell_type": "markdown",
   "metadata": {
    "collapsed": false
   },
   "source": [
    "This will create the connection to the database and prep the jupyter magic for SQL..."
   ]
  },
  {
   "cell_type": "code",
   "execution_count": null,
   "metadata": {
    "collapsed": false,
    "pycharm": {
     "is_executing": false,
     "name": "#%%\n"
    }
   },
   "outputs": [],
   "source": [
    "%sql $Config.NAMEX_DATABASE_URI"
   ]
  },
  {
   "cell_type": "markdown",
   "metadata": {
    "collapsed": false
   },
   "source": [
    "Daily totals for specified date: Following query, 'current_date - 0' means today, 'current_date - 1' means yesterday, 'current_date - 2' means the day before yesterday..."
   ]
  },
  {
   "cell_type": "code",
   "execution_count": null,
   "metadata": {},
   "outputs": [],
   "source": [
    "%%sql stat_daily_submitted  <<\n",
    "SELECT count(r.*) AS \"Number of Names Submitted:\" FROM requests r\n",
    "WHERE date(r.submitted_date at time zone 'utc' at time zone 'pst')  = date(current_date - 1)"
   ]
  },
  {
   "cell_type": "code",
   "execution_count": null,
   "metadata": {},
   "outputs": [],
   "source": [
    "filename ='daily_totals_' + datetime.strftime(datetime.now()-timedelta(1), '%Y-%m-%d') +'.csv'\n",
    "\n",
    "edt = stat_daily_submitted.DataFrame()\n",
    "\n",
    "with open(filename, 'w') as f:\n",
    "    edt.to_csv(f, sep=',', encoding='utf-8', index=False)\n",
    "\n",
    "if edt.empty:\n",
    "    with open(filename, 'a') as f:\n",
    "        writer = csv.writer(f)\n",
    "        writer.writerow(('No Data Retrieved',''))"
   ]
  },
  {
   "cell_type": "code",
   "execution_count": null,
   "metadata": {
    "collapsed": false,
    "pycharm": {
     "is_executing": false,
     "name": "#%%\n"
    }
   },
   "outputs": [],
   "source": [
    "%%sql stat_daily_completed  <<\n",
    "WITH Detail AS \n",
    "(\n",
    "    SELECT to_char(date(current_date -1), 'YY-Mon-DD') AS EXAMINED_DATE\n",
    "    , (SELECT username from users u where u.id=e.user_id) AS EXAMINER     \n",
    "    , count(e.*) + count(r.*) FILTER (WHERE r.priority_cd = 'Y') AS TOTAL                  \n",
    "    FROM events e,\n",
    "    requests r\n",
    "    WHERE e.user_id != 1\n",
    "    AND r.id = e.nr_id\n",
    "    AND date(e.event_dt at time zone 'utc' at time zone 'pst') = date(current_date - 1)\n",
    "    AND e.state_cd in ('APPROVED','REJECTED','CONDITIONAL','CANCELLED')\n",
    "    GROUP BY e.user_id \n",
    "    ORDER BY total DESC\n",
    ")\n",
    "\n",
    "SELECT * FROM Detail WHERE examiner LIKE '%idir%' \n",
    "UNION ALL\n",
    "SELECT null, 'SUM' EXAMINER, sum(TOTAL) AS TOTAL FROM Detail WHERE examiner LIKE '%idir%'"
   ]
  },
  {
   "cell_type": "code",
   "execution_count": null,
   "metadata": {
    "collapsed": false,
    "pycharm": {
     "is_executing": false,
     "name": "#%%\n"
    }
   },
   "outputs": [],
   "source": [
    "edt = stat_daily_completed.DataFrame()\n",
    "\n",
    "if not edt.empty: \n",
    "    edt['examiner'] = edt['examiner'].str.replace('idir/','')"
   ]
  },
  {
   "cell_type": "markdown",
   "metadata": {
    "collapsed": false
   },
   "source": [
    "Save to CSV\n",
    "    "
   ]
  },
  {
   "cell_type": "code",
   "execution_count": null,
   "metadata": {
    "collapsed": false,
    "pycharm": {
     "is_executing": false,
     "name": "#%%\n"
    }
   },
   "outputs": [],
   "source": [
    "with open(filename, 'a') as f:      \n",
    "    f.write('\\n\\n Number of Names Processed:\\n')\n",
    "    edt.to_csv(f, sep=',', encoding='utf-8', index=False) \n",
    "\n",
    "if edt.empty:\n",
    "    with open(filename, 'a') as f:\n",
    "        writer = csv.writer(f)\n",
    "        writer.writerow(('No Data Retrieved',''))"
   ]
  }
 ],
 "metadata": {
  "celltoolbar": "Tags",
  "kernelspec": {
   "display_name": "Python 3",
   "language": "python",
   "name": "python3"
  },
  "language_info": {
   "codemirror_mode": {
    "name": "ipython",
    "version": 3
   },
   "file_extension": ".py",
   "mimetype": "text/x-python",
   "name": "python",
   "nbconvert_exporter": "python",
   "pygments_lexer": "ipython3",
   "version": "3.7.3"
  },
  "pycharm": {
   "stem_cell": {
    "cell_type": "raw",
    "metadata": {
     "collapsed": false
    },
    "source": []
   }
  }
 },
 "nbformat": 4,
 "nbformat_minor": 2
}
