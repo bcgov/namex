{
 "cells": [
  {
   "cell_type": "markdown",
   "source": [
    "# NameX Six Months Stats"
   ],
   "metadata": {
    "collapsed": false
   }
  },
  {
   "cell_type": "markdown",
   "source": [
    "We need to load in these libraries into our notebook in order to query, load, manipulate and view the data"
   ],
   "metadata": {
    "collapsed": false
   }
  },
  {
   "cell_type": "code",
   "execution_count": null,
   "outputs": [],
   "source": [
    "import os\n",
    "import psycopg2\n",
    "import pandas as pd\n",
    "import matplotlib\n",
    "from datetime import datetime, timedelta\n",
    "from IPython.core.display import HTML\n",
    "\n",
    "%load_ext sql\n",
    "%config SqlMagic.displaylimit = 5"
   ],
   "metadata": {
    "collapsed": false,
    "pycharm": {
     "name": "#%%\n",
     "is_executing": false
    }
   }
  },
  {
   "cell_type": "markdown",
   "source": [
    "This will create the connection to the database and prep the jupyter magic for SQL"
   ],
   "metadata": {
    "collapsed": false
   }
  },
  {
   "cell_type": "code",
   "execution_count": null,
   "outputs": [],
   "source": [
    "connect_to_db = 'postgresql://' + \\\n",
    "                os.getenv('PG_USER', '') + \":\" + os.getenv('PG_PASSWORD', '') +'@' + \\\n",
    "                os.getenv('PG_HOST', '') + ':' + os.getenv('PG_PORT', '5432') + '/' + os.getenv('PG_DB_NAME', '');\n",
    "    \n",
    "%sql $connect_to_db"
   ],
   "metadata": {
    "collapsed": false,
    "pycharm": {
     "name": "#%%\n",
     "is_executing": false
    }
   }
  },
  {
   "cell_type": "markdown",
   "source": [
    "Simplest query to run to ensure our libraries are loaded and our DB connection is working"
   ],
   "metadata": {
    "collapsed": false
   }
  },
  {
   "cell_type": "code",
   "execution_count": null,
   "outputs": [],
   "source": [
    "%%sql \n",
    "select now() AT TIME ZONE 'PST' as current_date"
   ],
   "metadata": {
    "collapsed": false,
    "pycharm": {
     "name": "#%%\n",
     "is_executing": false
    }
   }
  },
  {
   "cell_type": "markdown",
   "source": [
    "Six month totals before running time."
   ],
   "metadata": {
    "collapsed": false
   }
  },
  {
   "cell_type": "code",
   "execution_count": null,
   "outputs": [],
   "source": [
    "%%sql stat_six_month_completed  <<\n",
    "SELECT e.user_id     \n",
    "     , (select username from users u where u.id=e.user_id) AS EXAMINER\n",
    "     , count(e.*) FILTER (WHERE e.state_cd = 'APPROVED')  AS APPROVED\n",
    "     , count(e.*) FILTER (WHERE e.state_cd = 'REJECTED')  AS REJECTED\n",
    "     , count(e.*) FILTER (WHERE e.state_cd = 'CONDITIONAL')  AS CONDITIONAL\n",
    "     , count(e.*) FILTER (WHERE e.state_cd = 'CANCELLED')  AS CANCELLED\n",
    "     , count(r.*) FILTER (WHERE r.priority_cd = 'Y')  AS PRIORITIES\n",
    "     , count(e.*) + count(r.*) FILTER (WHERE r.priority_cd = 'Y')   AS TOTAL                  \n",
    "FROM events e,\n",
    "requests r\n",
    "WHERE e.user_id != 1\n",
    "AND r.id = e.nr_id\n",
    "AND date(e.event_dt at time zone 'utc' at time zone 'pst')  > date(current_date - 1 - interval '6 months')\n",
    "AND e.state_cd in ('APPROVED','REJECTED','CONDITIONAL','CANCELLED')\n",
    "group by e.user_id\n",
    "order by e.user_id;\n"
   ],
   "metadata": {
    "collapsed": false,
    "pycharm": {
     "name": "#%%\n",
     "is_executing": false
    }
   }
  },
  {
   "cell_type": "code",
   "execution_count": null,
   "outputs": [],
   "source": [
    "edt = stat_six_month_completed.DataFrame()\n",
    "edt['examiner'] = edt['examiner'].str.replace('idir/','')"
   ],
   "metadata": {
    "collapsed": false,
    "pycharm": {
     "name": "#%%\n",
     "is_executing": false
    }
   }
  },
  {
   "cell_type": "code",
   "execution_count": null,
   "outputs": [],
   "source": [
    "edt['approved_%'] = ((edt.approved + edt.conditional) / edt.total * 100).round(1)\n",
    "edt['rejected_%'] = (edt.rejected / edt.total * 100).round(1)\n",
    "\n",
    "# with pd.option_context('display.max_rows', None, 'display.max_columns', None):\n",
    "#     display(HTML(edt.to_html()))\n",
    "#     print('grand total', edt['total'].sum())"
   ],
   "metadata": {
    "collapsed": false,
    "pycharm": {
     "name": "#%%\n",
     "is_executing": false
    }
   }
  },
  {
   "cell_type": "markdown",
   "source": [
    "Save to CSV"
   ],
   "metadata": {
    "collapsed": false
   }
  },
  {
   "cell_type": "code",
   "execution_count": null,
   "outputs": [],
   "source": [
    "filename = 'six_month_totals_till_' + datetime.strftime(datetime.now()-timedelta(1), '%Y-%m-%d') +'.csv'\n",
    "edt.to_csv(filename, sep=',', encoding='utf-8', index=False)"
   ],
   "metadata": {
    "collapsed": false,
    "pycharm": {
     "name": "#%%\n",
     "is_executing": false
    }
   }
  },
  {
   "cell_type": "code",
   "execution_count": null,
   "outputs": [],
   "source": [],
   "metadata": {
    "collapsed": false,
    "pycharm": {
     "name": "#%%\n",
     "is_executing": false
    }
   }
  }
 ],
 "metadata": {
  "celltoolbar": "Tags",
  "kernelspec": {
   "display_name": "Python 3",
   "language": "python",
   "name": "python3"
  },
  "language_info": {
   "codemirror_mode": {
    "name": "ipython",
    "version": 3
   },
   "file_extension": ".py",
   "mimetype": "text/x-python",
   "name": "python",
   "nbconvert_exporter": "python",
   "pygments_lexer": "ipython3",
   "version": "3.7.3"
  },
  "pycharm": {
   "stem_cell": {
    "cell_type": "raw",
    "source": [],
    "metadata": {
     "collapsed": false
    }
   }
  }
 },
 "nbformat": 4,
 "nbformat_minor": 2
}