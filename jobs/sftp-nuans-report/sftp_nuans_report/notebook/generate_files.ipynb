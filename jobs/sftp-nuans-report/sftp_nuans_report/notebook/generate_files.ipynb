{
 "cells": [
  {
   "cell_type": "markdown",
   "metadata": {
    "collapsed": false
   },
   "source": [
    "# Filings Daily Stats"
   ]
  },
  {
   "cell_type": "markdown",
   "metadata": {
    "collapsed": false
   },
   "source": [
    "We need to load in these libraries into our notebook in order to query, load, manipulate and view the data"
   ]
  },
  {
   "cell_type": "code",
   "execution_count": null,
   "metadata": {
    "collapsed": false,
    "pycharm": {
     "is_executing": false,
     "name": "#%%\n"
    }
   },
   "outputs": [],
   "source": [
    "import os\n",
    "import csv\n",
    "import gzip\n",
    "import pandas as pd\n",
    "from datetime import datetime\n",
    "\n",
    "%load_ext sql\n",
    "%config SqlMagic.displaylimit = 5\n",
    "%config SqlMagic.style = '_DEPRECATED_DEFAULT'"
   ]
  },
  {
   "cell_type": "markdown",
   "metadata": {
    "collapsed": false
   },
   "source": [
    "This will create the connection to the database and prep the jupyter magic for SQL"
   ]
  },
  {
   "cell_type": "markdown",
   "metadata": {},
   "source": []
  },
  {
   "cell_type": "code",
   "execution_count": null,
   "metadata": {
    "collapsed": false,
    "pycharm": {
     "is_executing": false,
     "name": "#%%\n"
    }
   },
   "outputs": [],
   "source": [
    "user     = os.getenv('PG_USER', '')\n",
    "pw       = os.getenv('PG_PASSWORD', '')\n",
    "db       = os.getenv('PG_DB_NAME', '')\n",
    "host     = os.getenv('PG_HOST', '')\n",
    "port     = int(os.getenv('PG_PORT', '5432'))\n",
    "socket   = os.getenv('PG_UNIX_SOCKET', None)\n",
    "if socket:\n",
    "  connect_to_db = f\"postgresql+psycopg2://{user}:{pw}@/{db}?host={socket}\"\n",
    "else:\n",
    "  connect_to_db = f\"postgresql://{user}:{pw}@{host}:{port}/{db}\"\n",
    "    \n",
    "%sql $connect_to_db"
   ]
  },
  {
   "cell_type": "code",
   "execution_count": null,
   "metadata": {},
   "outputs": [],
   "source": [
    "# Define the mappings as dictionaries\n",
    "request_class_type_mapping = {\n",
    "    \"AL\" : \"CORP\",\n",
    "    \"AS\" : \"CORP\",\n",
    "    \"ASO\" : \"CORP\",\n",
    "    \"BC\" : \"CORP\",\n",
    "    \"BEAM\" : \"CORP\",\n",
    "    \"BEC\" : \"CORP\",\n",
    "    \"BECR\" : \"CORP\",\n",
    "    \"BECT\" : \"CORP\",\n",
    "    \"BECV\" : \"CORP\",\n",
    "    \"BERE\" : \"CORP\",\n",
    "    \"CC\" : \"CORP\",\n",
    "    \"CCC\" : \"CORP\",\n",
    "    \"CCCT\" : \"CORP\",\n",
    "    \"CCP\" : \"CORP\",\n",
    "    \"CCR\" : \"CORP\",\n",
    "    \"CCV\" : \"CORP\",\n",
    "    \"CEM\" : \"MISC\",\n",
    "    \"CFI\" : \"CORP\",\n",
    "    \"CFR\" : \"FIRM\",\n",
    "    \"CLC\" : \"CORP\",\n",
    "    \"CLL\" : \"FIRM\",\n",
    "    \"CLP\" : \"FIRM\",\n",
    "    \"CP\" : \"CORP\",\n",
    "    \"CR\" : \"CORP\",\n",
    "    \"CSO\" : \"CORP\",\n",
    "    \"CSSO\" : \"CORP\",\n",
    "    \"CT\" : \"CORP\",\n",
    "    \"CTC\" : \"CORP\",\n",
    "    \"CTSO\" : \"CORP\",\n",
    "    \"CUL\" : \"CORP\",\n",
    "    \"FI\" : \"CORP\",\n",
    "    \"FR\" : \"FIRM\",\n",
    "    \"LC\" : \"CORP\",\n",
    "    \"LIB\" : \"MISC\",\n",
    "    \"LL\" : \"FIRM\",\n",
    "    \"LP\" : \"FIRM\",\n",
    "    \"NON\" : \"MISC\",\n",
    "    \"PA\" : \"CORP\",\n",
    "    \"PAR\" : \"MISC\",\n",
    "    \"RCC\" : \"CORP\",\n",
    "    \"RCP\" : \"CORP\",\n",
    "    \"RCR\" : \"CORP\",\n",
    "    \"RFI\" : \"CORP\",\n",
    "    \"RLC\" : \"CORP\",\n",
    "    \"RLY\" : \"MISC\",\n",
    "    \"RSO\" : \"CORP\",\n",
    "    \"RUL\" : \"CORP\",\n",
    "    \"SO\" : \"CORP\",\n",
    "    \"TMY\" : \"MISC\",\n",
    "    \"UA\" : \"CORP\",\n",
    "    \"UC\" : \"CORP\",\n",
    "    \"UL\" : \"CORP\",\n",
    "    \"ULCT\" : \"CORP\",\n",
    "    \"XASO\" : \"CORP\",\n",
    "    \"XCASO\" : \"CORP\",\n",
    "    \"XCCP\" : \"CORP\",\n",
    "    \"XCCR\" : \"CORP\",\n",
    "    \"XCLL\" : \"FIRM\",\n",
    "    \"XCLP\" : \"FIRM\",\n",
    "    \"XCP\" : \"CORP\",\n",
    "    \"XCR\" : \"CORP\",\n",
    "    \"XCSO\" : \"CORP\",\n",
    "    \"XCUL\" : \"CORP\",\n",
    "    \"XLL\" : \"FIRM\",\n",
    "    \"XLP\" : \"FIRM\",\n",
    "    \"XRCP\" : \"CORP\",\n",
    "    \"XRCR\" : \"CORP\",\n",
    "    \"XRSO\" : \"CORP\",\n",
    "    \"XRUL\" : \"CORP\",\n",
    "    \"XSO\" : \"CORP\",\n",
    "    \"XUL\" : \"CORP\",\n",
    "    \"ULBE\" : \"CORP\",\n",
    "    \"ULCB\" : \"CORP\"\n",
    "}\n",
    "\n",
    "name_state_mapping = {\n",
    "    \"APPROVED\" : \"App\",\n",
    "    \"CONDITION\" : \"Con\",\n",
    "    \"REJECTED\" : \"Rej\",\n",
    "    \"NE\" : \"Not\"\n",
    "}"
   ]
  },
  {
   "cell_type": "code",
   "execution_count": null,
   "metadata": {},
   "outputs": [],
   "source": [
    "query = \"\"\"\n",
    "select DISTINCT ON (r.nr_num)\n",
    "\t\tr.nr_num,\n",
    "\t\tto_char(r.last_update at time zone 'America/Vancouver', 'YYYYMMDD') last_update,\n",
    "\t\tr.request_type_cd,\n",
    "\t\tn.state,\n",
    "\t\tto_char(e.event_dt at time zone 'America/Vancouver', 'YYYYMMDD') event_dt,\n",
    "\t\ta.city,\n",
    "\t\tn.name\n",
    "from requests r, events e, names n, applicants a\n",
    "where r.id = e.nr_id\n",
    "and r.id = n.nr_id\n",
    "and a.nr_id = r.id\n",
    "and r.state_cd in ('APPROVED', 'CONDITIONAL')\n",
    "and r.expiration_date::date > CURRENT_DATE\n",
    "and n.corp_num is null\n",
    "and n.state in ('APPROVED', 'CONDITION')\n",
    "and e.action = 'patch' and e.state_cd in ('APPROVED', 'CONDITIONAL')\n",
    "ORDER BY \n",
    "    r.nr_num, e.event_dt DESC; \n",
    "\"\"\"\n",
    "\n",
    "# Run the query using the %%sql cell magic and store the result\n",
    "result = %sql $query\n",
    "\n",
    "# Convert result to DataFrame\n",
    "if result:\n",
    "    df = result.DataFrame()\n",
    "else:\n",
    "    df = pd.DataFrame(columns=[\n",
    "        'nr_num', 'last_update', 'request_type_cd', 'state', \n",
    "        'event_dt', 'city', 'name'\n",
    "    ])\n",
    "#print(df)"
   ]
  },
  {
   "cell_type": "code",
   "execution_count": null,
   "metadata": {},
   "outputs": [],
   "source": [
    "# Apply the mappings\n",
    "df['mapped_request_type'] = df['request_type_cd'].map(request_class_type_mapping).fillna('UNKNOWN')\n",
    "df['mapped_state'] = df['state'].map(name_state_mapping).fillna('UNKNOWN')\n",
    "# Apply RPAD equivalent transformation to 'city'\n",
    "df['city'] = df['city'].fillna(' ').str.pad(width=40, side='right', fillchar=' ')\n",
    "\n",
    "df['formatted_output'] = (\n",
    "    'BC9' +\n",
    "    df['nr_num'].astype(str).str[3:9] +\n",
    "    '0' +\n",
    "    df['last_update'] +\n",
    "    df['nr_num'].astype(str).str[:2] +\n",
    "    df['mapped_request_type'].astype(str).str[:1] +\n",
    "    df['mapped_state'] +\n",
    "    df['event_dt'] +\n",
    "    df['city'] +\n",
    "    'BC' +\n",
    "    df['name']\n",
    ")\n",
    "# Apply RPAD to the entire formatted output string to ensure length is 528 and filled with spaces\n",
    "df['formatted_output'] = df['formatted_output'].str.pad(width=528, side='right', fillchar=' ')\n",
    "\n",
    "# Display or export the formatted outputs as needed\n",
    "#for line in df['formatted_output']:\n",
    "#    print(line)"
   ]
  },
  {
   "cell_type": "code",
   "execution_count": null,
   "metadata": {},
   "outputs": [],
   "source": [
    "datestr = datetime.strftime(datetime.now(), '%Y%m%d')\n",
    "\n",
    "# Create the directory if it doesn't exist\n",
    "output_dir = os.path.join(os.getcwd(), 'sftp_nuans_report/data')\n",
    "os.makedirs(output_dir, exist_ok=True)\n",
    "\n",
    "# Filter the DataFrame for 'CORP'\n",
    "df_corp = df[df['mapped_request_type'] == 'CORP']\n",
    "corp_filename = os.path.join(output_dir, f'bccn_mr_{datestr}')\n",
    "\n",
    "with open(corp_filename, 'w') as f:\n",
    "    if not df_corp.empty:\n",
    "        df_corp_string = \"\\n\".join(df_corp['formatted_output'].tolist()) + \"\\n\"\n",
    "        f.write(df_corp_string)\n",
    "\n",
    "# Filter the DataFrame for 'FIRM'\n",
    "df_firm = df[df['mapped_request_type'] == 'FIRM']\n",
    "firm_filename = os.path.join(output_dir, f'bcbn_mr_{datestr}')\n",
    "\n",
    "with open(firm_filename, 'w') as f:\n",
    "    if not df_firm.empty:\n",
    "        df_firm_string = \"\\n\".join(df_firm['formatted_output'].tolist()) + \"\\n\"\n",
    "        f.write(df_firm_string)\n",
    "\n",
    "print(f\"Reports generated: {corp_filename} and {firm_filename}\")"
   ]
  },
  {
   "cell_type": "code",
   "execution_count": null,
   "metadata": {},
   "outputs": [],
   "source": [
    "# open file in read mode and rename it with a line number at the end of the filename.\n",
    "with open(corp_filename, 'r') as f:\n",
    "    new_corp_filename=corp_filename+'_' + str(len(f.readlines())) + '_reserved'\n",
    "    os.rename(corp_filename, new_corp_filename)\n",
    "\n",
    "with open(firm_filename, 'r') as f:\n",
    "    new_firm_filename=firm_filename+'_' + str(len(f.readlines())) + '_reserved'\n",
    "    os.rename(firm_filename, new_firm_filename)  "
   ]
  },
  {
   "cell_type": "code",
   "execution_count": null,
   "metadata": {},
   "outputs": [],
   "source": [
    "# gzip the file\n",
    "with open(new_corp_filename, 'rb') as f_in, gzip.open(new_corp_filename+'.gz', 'wb') as f_out:\n",
    "    f_out.writelines(f_in) \n",
    "# delete this file and  keep a zip file only\n",
    "os.remove(new_corp_filename)\n",
    "\n",
    "with open(new_firm_filename, 'rb') as f_in, gzip.open(new_firm_filename+'.gz', 'wb') as f_out:\n",
    "    f_out.writelines(f_in) \n",
    "# delete this file and  keep a zip file only\n",
    "os.remove(new_firm_filename)    "
   ]
  }
 ],
 "metadata": {
  "celltoolbar": "Tags",
  "kernelspec": {
   "display_name": "Python 3.10.4 64-bit",
   "language": "python",
   "name": "python3"
  },
  "language_info": {
   "codemirror_mode": {
    "name": "ipython",
    "version": 3
   },
   "file_extension": ".py",
   "mimetype": "text/x-python",
   "name": "python",
   "nbconvert_exporter": "python",
   "pygments_lexer": "ipython3",
   "version": "3.8.12"
  },
  "pycharm": {
   "stem_cell": {
    "cell_type": "raw",
    "metadata": {
     "collapsed": false
    },
    "source": []
   }
  },
  "vscode": {
   "interpreter": {
    "hash": "fcb35bce15c55b4cacb5112e543368f86c7f98ed17acd45e6841ee83ed1df6e3"
   }
  }
 },
 "nbformat": 4,
 "nbformat_minor": 2
}
