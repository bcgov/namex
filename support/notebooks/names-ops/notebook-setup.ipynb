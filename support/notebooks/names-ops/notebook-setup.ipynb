{
 "cells": [
  {
   "cell_type": "code",
   "execution_count": null,
   "metadata": {},
   "outputs": [],
   "source": [
    "# %%capture\n",
    "# %env DATABASE_USERNAME=\n",
    "# %env DATABASE_PASSWORD=\n",
    "# %env DATABASE_NAME=uat\n",
    "# %env DATABASE_HOST=docker.for.mac.localhost\n",
    "# %env DATABASE_PORT=5432\n",
    "# %env SECRET_KEY=ops"
   ]
  },
  {
   "cell_type": "code",
   "execution_count": null,
   "metadata": {},
   "outputs": [],
   "source": [
    "%%capture\n",
    "%env DATABASE_USERNAME=\n",
    "%env DATABASE_PASSWORD=\n",
    "%env DATABASE_NAME=uat\n",
    "%env DATABASE_HOST=docker.for.mac.localhost\n",
    "%env DATABASE_PORT=5432\n",
    "%env SECRET_KEY=ops"
   ]
  },
  {
   "cell_type": "code",
   "execution_count": null,
   "metadata": {},
   "outputs": [],
   "source": [
    "import requests\n",
    "import auto_analyser_uat\n",
    "from auto_analyser_uat.models import RequestName, UatJobResult, db\n",
    "from openpyxl import Workbook, load_workbook\n",
    "from IPython.core.display import HTML\n",
    "%load_ext sql\n",
    "%config SqlMagic.displaylimit = 5\n",
    "%config Application.log_level=\"ERROR\""
   ]
  },
  {
   "cell_type": "code",
   "execution_count": null,
   "metadata": {},
   "outputs": [],
   "source": [
    "import os\n",
    "import flask\n",
    "APP_CONFIG = auto_analyser_uat.config.get_named_config(os.getenv('DEPLOYMENT_ENV', 'production'))\n",
    "FLASK_APP = flask.Flask(__name__)\n",
    "FLASK_APP.config.from_object(APP_CONFIG)\n",
    "auto_analyser_uat.db.init_app(FLASK_APP)\n",
    "FLASK_APP.app_context().push()"
   ]
  },
  {
   "cell_type": "code",
   "execution_count": null,
   "metadata": {},
   "outputs": [],
   "source": [
    "def write_to_excel(names: list, filename: str):\n",
    "    wb = Workbook()\n",
    "    sheet = wb.active\n",
    "\n",
    "    headers = [\n",
    "        'id',\n",
    "        'nr_num',\n",
    "        'nr_state',\n",
    "        'choice',\n",
    "        'name',\n",
    "        'name_state',\n",
    "        'decision_text',\n",
    "        'conflict1_num',\n",
    "        'conflict1',\n",
    "        'result_state',  # auto_analyse_result\n",
    "        'result_decision_text',  # auto_analyse_issue_text\n",
    "        'result_conflict1',  # auto_analyse_conflict1\n",
    "        'result_issue_type',  # auto_analyse_issue_type\n",
    "        'result_response'  # auto_analyse_response\n",
    "    ]\n",
    "    sheet.append(headers)\n",
    "\n",
    "    for name in names:\n",
    "        sheet.append(\n",
    "            [\n",
    "                name.id,\n",
    "                name.nr_num,\n",
    "                name.nr_state,\n",
    "                name.choice,\n",
    "                name.name,\n",
    "                name.name_state,\n",
    "                name.decision_text,\n",
    "                name.conflict1_num,\n",
    "                name.conflict1,\n",
    "                name.auto_analyse_result,\n",
    "                name.auto_analyse_issue_text,\n",
    "                name.auto_analyse_conflict1,\n",
    "                name.auto_analyse_issue_type,\n",
    "                str(name.auto_analyse_response)\n",
    "            ]\n",
    "        )\n",
    "\n",
    "    wb.save(filename)"
   ]
  }
 ],
 "metadata": {
  "kernelspec": {
   "display_name": "Python 3",
   "language": "python",
   "name": "python3"
  },
  "language_info": {
   "codemirror_mode": {
    "name": "ipython",
    "version": 3
   },
   "file_extension": ".py",
   "mimetype": "text/x-python",
   "name": "python",
   "nbconvert_exporter": "python",
   "pygments_lexer": "ipython3",
   "version": "3.8.2-final"
  }
 },
 "nbformat": 4,
 "nbformat_minor": 4
}