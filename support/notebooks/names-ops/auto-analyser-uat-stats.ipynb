{
 "cells": [
  {
   "cell_type": "markdown",
   "metadata": {},
   "source": [
    "# Auto-Analyser-UAT Stats\n",
    "### Follow these steps to generate statistics of names tested against the auto analyser"
   ]
  },
  {
   "cell_type": "markdown",
   "metadata": {},
   "source": [
    "## Setup the environment"
   ]
  },
  {
   "cell_type": "code",
   "execution_count": 1,
   "metadata": {},
   "outputs": [],
   "source": [
    "%run ./notebook-setup.ipynb"
   ]
  },
  {
   "cell_type": "markdown",
   "metadata": {},
   "source": [
    "## Set the data set\n",
    "#### Default: entire data set of results that haven't been seen\n",
    "*Could be expanded upon to select other subsets of uat jobs / names*"
   ]
  },
  {
   "cell_type": "code",
   "execution_count": 2,
   "metadata": {},
   "outputs": [],
   "source": [
    "data_set = 'unseen'  # all, unseen\n",
    "uat_type = 'all'  # uat_rejection, uat_accuracy, all"
   ]
  },
  {
   "cell_type": "markdown",
   "metadata": {},
   "source": [
    "## Get the uat jobs included in the data set"
   ]
  },
  {
   "cell_type": "code",
   "execution_count": 3,
   "metadata": {},
   "outputs": [
    {
     "data": {
      "text/plain": [
       "[<UatJobResult 1>,\n",
       " <UatJobResult 2>,\n",
       " <UatJobResult 3>,\n",
       " <UatJobResult 4>,\n",
       " <UatJobResult 5>,\n",
       " <UatJobResult 85>,\n",
       " <UatJobResult 86>,\n",
       " <UatJobResult 88>,\n",
       " <UatJobResult 37>,\n",
       " <UatJobResult 129>,\n",
       " <UatJobResult 130>]"
      ]
     },
     "execution_count": 3,
     "metadata": {},
     "output_type": "execute_result"
    }
   ],
   "source": [
    "if data_set == 'unseen':\n",
    "    if uat_type != 'all':\n",
    "        uat_jobs = UatJobResult.get_jobs_with_unsent_results(uat_type=uat_type)\n",
    "    else:\n",
    "        uat_jobs = UatJobResult.get_jobs_with_unsent_results()\n",
    "elif uat_type != 'all':\n",
    "    uat_jobs = UatJobResult.get_finshed_jobs(uat_type=uat_type)\n",
    "else:\n",
    "    uat_jobs = UatJobResult.get_finshed_jobs()\n",
    "uat_jobs"
   ]
  },
  {
   "cell_type": "markdown",
   "metadata": {},
   "source": [
    "## Get the response time averages"
   ]
  },
  {
   "cell_type": "code",
   "execution_count": 4,
   "metadata": {},
   "outputs": [
    {
     "name": "stdout",
     "output_type": "stream",
     "text": [
      "6.3\n",
      "6.9\n",
      "3.4\n",
      "8.6\n",
      "6.9\n",
      "6.5\n",
      "4.1\n",
      "6.9\n",
      "4.8\n",
      "10.0\n",
      "7.0\n"
     ]
    },
    {
     "data": {
      "text/plain": [
       "6.49090909090909"
      ]
     },
     "execution_count": 4,
     "metadata": {},
     "output_type": "execute_result"
    }
   ],
   "source": [
    "total_request_time = 0.0\n",
    "count = 0\n",
    "for job in uat_jobs:\n",
    "    time = job.get_request_time_avg()\n",
    "    print(time)\n",
    "    total_request_time += time\n",
    "    count += 1\n",
    "total_request_time_avg = total_request_time/count\n",
    "total_request_time_avg"
   ]
  },
  {
   "cell_type": "markdown",
   "metadata": {},
   "source": [
    "## Get the pass rate"
   ]
  },
  {
   "cell_type": "code",
   "execution_count": 5,
   "metadata": {},
   "outputs": [
    {
     "name": "stdout",
     "output_type": "stream",
     "text": [
      "1.0\n",
      "0.8\n",
      "0.6\n",
      "0.4\n",
      "0.6\n",
      "0.7\n",
      "0.6\n",
      "0.8\n",
      "0.3\n",
      "1.0\n",
      "0.0\n"
     ]
    },
    {
     "data": {
      "text/plain": [
       "0.618181818181818"
      ]
     },
     "execution_count": 5,
     "metadata": {},
     "output_type": "execute_result"
    }
   ],
   "source": [
    "total_pass_avgs = 0.0\n",
    "count = 0\n",
    "for job in uat_jobs:\n",
    "    pass_avg = job.get_accuracy()\n",
    "    print(pass_avg)\n",
    "    total_pass_avgs += pass_avg\n",
    "    count += 1\n",
    "total_pass_rate = total_pass_avgs/count\n",
    "total_pass_rate"
   ]
  },
  {
   "cell_type": "markdown",
   "metadata": {},
   "source": [
    "## Get the failed results"
   ]
  },
  {
   "cell_type": "code",
   "execution_count": 6,
   "metadata": {},
   "outputs": [
    {
     "name": "stdout",
     "output_type": "stream",
     "text": [
      "TRISTON'S DRY CLEANING INC.\n",
      "SCOTT OWEN RUMSBY INC.\n"
     ]
    }
   ],
   "source": [
    "failed_names = []\n",
    "for job in uat_jobs:\n",
    "    failed_names += job.get_names(result='FAILED')\n",
    "for name_obj in failed_names:\n",
    "    print(name_obj.name)\n"
   ]
  },
  {
   "cell_type": "markdown",
   "metadata": {},
   "source": [
    "## Save failed results to excel spreadsheet"
   ]
  },
  {
   "cell_type": "code",
   "execution_count": 7,
   "metadata": {},
   "outputs": [],
   "source": [
    "write_to_excel(failed_names, 'failed_names.xlsx')"
   ]
  },
  {
   "cell_type": "markdown",
   "metadata": {},
   "source": [
    "## Get err'd results"
   ]
  },
  {
   "cell_type": "code",
   "execution_count": 8,
   "metadata": {},
   "outputs": [
    {
     "name": "stdout",
     "output_type": "stream",
     "text": [
      "BLUE WATER RESORT INC.\n",
      "BEST VICTORIA PLUMBING INC.\n",
      "JJ FIT FOR LIFE INCORPORATED\n",
      "F. GERARD BOOK KEEPING 2 INC.\n",
      "VICTORIA PLUMBING INC.\n",
      "WILX & SONS HEAT SAVERS INC.\n",
      "WILX HEAT & AIR CONDITIONING INC.\n",
      "COAST NOTARY CORPORATION UNLIMITED LIABILITY COMPANY LIMITED\n",
      "HH WELDING LIMITED\n",
      "ROYAL BC GUSTO MARKETING LIMITED\n",
      "FIRST CHOICE MORTGAGE LIMITED\n",
      "BC PRESTIGE HOLDINGS LTD. LIMITED\n",
      "BC BUILDERS ASSOCIATION LIMITED\n",
      "BACK COUNTRY BUILDERS AND GUIDES LIMITED\n",
      "ALL CARE TRUCK REPAIR LTD.\n",
      "I AM ADDING A NEW NAME CHOICE\n",
      "GREEN LIGHT CONSULTING INC. LIMITED\n",
      "ECO TRANSPORTATION GROUP LTD. LIMITED\n",
      "DYNAMIC LEASING CANADA INC. LIMITED\n",
      "DYNAMIC BUSINESS SOLUTIONS LIMITED\n",
      "CS PROPERTY SERVICES LTD. LIMITED\n",
      "B C WIDE TRANSPORT LTD. LIMITED\n",
      "J AND J PAINTING LIMITED\n",
      "JJ PAINTING LIMITED\n",
      "ACORN MANAGEMENT CONSULTANTS, LP LIMITED\n",
      "ACORN HOLDINGS, LP LIMITED\n",
      "A&K DELIVERIES LIMITED\n",
      "A-MATE CONSTRUCTION SERVICES LIMITED\n",
      "QUANTITY BUILDING MATERIALS\n",
      "KAHN CLEANING AND LAUNDRY INCORPORATED\n",
      "KELLIE'S LAUNDRY INC.\n"
     ]
    }
   ],
   "source": [
    "errd_names = []\n",
    "for job in uat_jobs:\n",
    "    errd_names += job.get_names(result='ERROR')\n",
    "for name_obj in errd_names:\n",
    "    print(name_obj.name)"
   ]
  },
  {
   "cell_type": "code",
   "execution_count": 9,
   "metadata": {},
   "outputs": [],
   "source": [
    "write_to_excel(errd_names, 'error_names.xlsx')"
   ]
  },
  {
   "cell_type": "markdown",
   "metadata": {},
   "source": [
    "## Update jobs results sent"
   ]
  },
  {
   "cell_type": "code",
   "execution_count": 10,
   "metadata": {},
   "outputs": [],
   "source": [
    "for job in uat_jobs:\n",
    "    job.results_sent = True\n",
    "    job.save()\n",
    "db.session.commit()"
   ]
  },
  {
   "cell_type": "markdown",
   "metadata": {},
   "source": [
    "## Create MD file of notebook run\n",
    "**NOTE:** save notebook (i.e. _cmd s_) now to have results show in markdown file"
   ]
  },
  {
   "cell_type": "code",
   "execution_count": 11,
   "metadata": {},
   "outputs": [
    {
     "data": {
      "application/javascript": [
       "IPython.notebook.kernel.execute('nb_name = \"' + IPython.notebook.notebook_name + '\"')\n"
      ],
      "text/plain": [
       "<IPython.core.display.Javascript object>"
      ]
     },
     "metadata": {},
     "output_type": "display_data"
    }
   ],
   "source": [
    "%%javascript\n",
    "IPython.notebook.kernel.execute('nb_name = \"' + IPython.notebook.notebook_name + '\"')"
   ]
  },
  {
   "cell_type": "code",
   "execution_count": 12,
   "metadata": {},
   "outputs": [],
   "source": [
    "md_name = nb_name[:-6]+'.md'"
   ]
  },
  {
   "cell_type": "code",
   "execution_count": 13,
   "metadata": {},
   "outputs": [
    {
     "name": "stderr",
     "output_type": "stream",
     "text": [
      "[NbConvertApp] Converting notebook auto-analyser-uat-stats.ipynb to markdown\n",
      "[NbConvertApp] Writing 4093 bytes to auto-analyser-uat-stats.md\n"
     ]
    }
   ],
   "source": [
    "%%bash -s \"$nb_name\" \"$md_name\"\n",
    "jupyter nbconvert $1 --to markdown --output $2"
   ]
  }
 ],
 "metadata": {
  "kernelspec": {
   "display_name": "Python 3",
   "language": "python",
   "name": "python3"
  },
  "language_info": {
   "codemirror_mode": {
    "name": "ipython",
    "version": 3
   },
   "file_extension": ".py",
   "mimetype": "text/x-python",
   "name": "python",
   "nbconvert_exporter": "python",
   "pygments_lexer": "ipython3",
   "version": "3.8.2"
  }
 },
 "nbformat": 4,
 "nbformat_minor": 2
}
